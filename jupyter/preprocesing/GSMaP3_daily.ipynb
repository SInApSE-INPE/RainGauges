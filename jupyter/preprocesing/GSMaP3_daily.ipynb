{
 "cells": [
  {
   "cell_type": "code",
   "execution_count": 1,
   "id": "471f70ff",
   "metadata": {},
   "outputs": [],
   "source": [
    "import os\n",
    "import sys\n",
    "import glob\n",
    "import gzip\n",
    "import numpy as np\n",
    "import pandas as pd\n",
    "import xarray as xr\n",
    "import geopandas as gpd\n",
    "\n",
    "import cartopy.feature as cf\n",
    "import cartopy.crs as ccrs\n",
    "\n",
    "from matplotlib import patches\n",
    "import matplotlib.pyplot as plt\n",
    "import matplotlib.gridspec as gridspec"
   ]
  },
  {
   "cell_type": "code",
   "execution_count": 2,
   "id": "b0f4b106",
   "metadata": {},
   "outputs": [],
   "source": [
    "# product, time_s = 'NOW', '2024_03_01'\n",
    "product, time_s = 'NRT', '2024_01_01'"
   ]
  },
  {
   "cell_type": "code",
   "execution_count": 3,
   "id": "514ab3c9",
   "metadata": {},
   "outputs": [],
   "source": [
    "dir_base = os.path.join('/','media','arturo','Arturo','Data','Brazil')"
   ]
  },
  {
   "cell_type": "code",
   "execution_count": 4,
   "id": "a06e8e1c",
   "metadata": {},
   "outputs": [],
   "source": [
    "DATA = xr.open_dataset(os.path.join(dir_base,'GSMaP',product,f'GSMaP_{product}_SA_30min_{time_s}_2024_12_31.nc'))\n",
    "DATA['time'] = pd.to_datetime(DATA['time'].values)"
   ]
  },
  {
   "cell_type": "code",
   "execution_count": 5,
   "id": "2f233b78",
   "metadata": {},
   "outputs": [],
   "source": [
    "daily_accum = DATA['PRE'].resample(time='1D').sum()"
   ]
  },
  {
   "cell_type": "code",
   "execution_count": 6,
   "id": "a21b197d",
   "metadata": {},
   "outputs": [
    {
     "name": "stdout",
     "output_type": "stream",
     "text": [
      "Export PRE data to /media/arturo/Arturo/Data/Brazil/GSMaP/NRT/GSMaP_NRT_SA_1dy_2024_01_01_2024_12_31.nc\n"
     ]
    }
   ],
   "source": [
    "DAILY_out = os.path.join(dir_base,'GSMaP',product,f'GSMaP_{product}_SA_1dy_{time_s}_2024_12_31.nc')\n",
    "print(f'Export PRE data to {DAILY_out}')\n",
    "daily_accum.to_netcdf(DAILY_out)"
   ]
  }
 ],
 "metadata": {
  "kernelspec": {
   "display_name": "AXE",
   "language": "python",
   "name": "python3"
  },
  "language_info": {
   "codemirror_mode": {
    "name": "ipython",
    "version": 3
   },
   "file_extension": ".py",
   "mimetype": "text/x-python",
   "name": "python",
   "nbconvert_exporter": "python",
   "pygments_lexer": "ipython3",
   "version": "3.13.1"
  }
 },
 "nbformat": 4,
 "nbformat_minor": 5
}
