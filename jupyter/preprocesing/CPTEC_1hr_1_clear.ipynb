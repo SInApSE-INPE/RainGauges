{
 "cells": [
  {
   "cell_type": "code",
   "execution_count": null,
   "id": "7abbde76",
   "metadata": {},
   "outputs": [],
   "source": [
    "import os\n",
    "import sys\n",
    "import glob\n",
    "import numpy as np\n",
    "import pandas as pd\n",
    "import geopandas as gpd\n",
    "\n",
    "import cartopy.feature as cf\n",
    "import cartopy.crs as ccrs\n",
    "\n",
    "from matplotlib import patches\n",
    "import matplotlib.pyplot as plt\n",
    "import matplotlib.gridspec as gridspec"
   ]
  },
  {
   "cell_type": "code",
   "execution_count": null,
   "id": "df5ce22b",
   "metadata": {},
   "outputs": [],
   "source": [
    "dir_base = os.path.join('/','media','arturo','Arturo','Data','Brazil','OBS_CPTEC','1hr')"
   ]
  },
  {
   "cell_type": "markdown",
   "id": "ec106ee5",
   "metadata": {},
   "source": [
    "## Read raw data"
   ]
  },
  {
   "cell_type": "code",
   "execution_count": null,
   "id": "454dc8c4",
   "metadata": {},
   "outputs": [],
   "source": [
    "list_files = glob.glob(os.path.join(dir_base,'2024','raw','*.txt'))\n",
    "list_files = sorted(list_files)\n",
    "list_len = len(list_files)\n",
    "print(f'Number of files: {list_len}')"
   ]
  },
  {
   "cell_type": "code",
   "execution_count": null,
   "id": "1cbab5c6",
   "metadata": {},
   "outputs": [],
   "source": [
    "filename = os.path.join(dir_base,list_files[-1])\n",
    "DATA = pd.read_csv(filename,skiprows=2,sep=',')\n",
    "DATA = DATA[(DATA.lon>-83)&(DATA.lon<-33)&(DATA.lat>=-55)&(DATA.lat<=6)]\n",
    "DATA.loc[DATA['t'] < 0, 't'] = np.nan\n",
    "DATA.reset_index(drop=True,inplace=False)"
   ]
  },
  {
   "cell_type": "code",
   "execution_count": null,
   "id": "5e4ad060",
   "metadata": {},
   "outputs": [],
   "source": [
    "proj = ccrs.PlateCarree()\n",
    "fig = plt.figure(figsize=(4,4),dpi=300)\n",
    "gs = gridspec.GridSpec(1,1)\n",
    "\n",
    "#==================================================================================================\n",
    "ax1 = plt.subplot(gs[0, 0], projection = proj)\n",
    "# ax1.set_extent([SP_lon_min, SP_lon_max, SP_lat_min, SP_lat_max],crs=proj)\n",
    "ax1.add_feature(cf.COASTLINE,linewidth=0.1, linestyle='-',edgecolor='k')\n",
    "ax1.add_feature(cf.BORDERS, linewidth=0.1, linestyle='-', edgecolor='k')\n",
    "\n",
    "gl = ax1.gridlines(crs=proj,draw_labels=True,linewidth=0.2,color='gray',alpha=0.5,linestyle='--')\n",
    "gl.top_labels = False\n",
    "gl.bottom_labels = True\n",
    "gl.left_labels = True\n",
    "gl.right_labels = False\n",
    "gl.xlabel_style = {'size': 5, 'color': 'k'}\n",
    "gl.ylabel_style = {'size': 5, 'color': 'k'}\n",
    "\n",
    "ax1.scatter(DATA['lon'],DATA['lat'],s=1,marker='o',color='b',transform=proj)\n",
    "\n",
    "ax1.set_title(f'Number of stations: {len(DATA)}', loc='left', fontsize=7)"
   ]
  },
  {
   "cell_type": "markdown",
   "id": "5ff353c9",
   "metadata": {},
   "source": [
    "## Extract and Create Individual Files"
   ]
  },
  {
   "cell_type": "code",
   "execution_count": null,
   "id": "eb7e7189",
   "metadata": {},
   "outputs": [],
   "source": [
    "code_list = DATA['code'].values \n",
    "code_unique = np.unique(code_list)\n",
    "print(f'Number of stations: {len(code_unique)}')"
   ]
  },
  {
   "cell_type": "code",
   "execution_count": null,
   "id": "9920a8be",
   "metadata": {},
   "outputs": [],
   "source": [
    "for pos in range(len(code_unique)):\n",
    "    print(f'Station: {code_unique[pos]}')\n",
    "    df_list = []\n",
    "    for nn in range(list_len):\n",
    "        filename = os.path.join(dir_base,list_files[nn])\n",
    "        DATA = pd.read_csv(filename,skiprows=2,sep=',')\n",
    "        DATA_ref = DATA[DATA['code']==code_unique[pos]]\n",
    "        if not DATA_ref.empty:\n",
    "            df_list.append(DATA_ref)\n",
    "\n",
    "    DATA_all = pd.concat(df_list, ignore_index=True)\n",
    "    DATA_all['date'] = pd.to_datetime(DATA_all['date'].astype(str), format='%Y%m%d%H')\n",
    "    dir_out = os.path.join(dir_base,'2024','clear',f'obs_cptec_{code_unique[pos]}.csv')\n",
    "    DATA_all.to_csv(dir_out, header=True, index=False)"
   ]
  },
  {
   "cell_type": "markdown",
   "id": "398a4b05",
   "metadata": {},
   "source": [
    "## Complete dates"
   ]
  },
  {
   "cell_type": "code",
   "execution_count": null,
   "id": "7324a858",
   "metadata": {},
   "outputs": [],
   "source": [
    "TIME_REF = pd.date_range(start=f'2024-01-01', end=f'2024-12-31', freq='1h')\n",
    "TIME_PD = pd.DataFrame({'date':TIME_REF})\n",
    "print(f'Number of times: {len(TIME_PD)}')"
   ]
  },
  {
   "cell_type": "code",
   "execution_count": null,
   "id": "808e21c8",
   "metadata": {},
   "outputs": [],
   "source": []
  },
  {
   "cell_type": "code",
   "execution_count": null,
   "id": "21a2a94c",
   "metadata": {},
   "outputs": [],
   "source": []
  },
  {
   "cell_type": "code",
   "execution_count": null,
   "id": "47314bcc",
   "metadata": {},
   "outputs": [],
   "source": []
  },
  {
   "cell_type": "code",
   "execution_count": null,
   "id": "393340e3",
   "metadata": {},
   "outputs": [],
   "source": []
  }
 ],
 "metadata": {
  "kernelspec": {
   "display_name": "AXE",
   "language": "python",
   "name": "python3"
  },
  "language_info": {
   "codemirror_mode": {
    "name": "ipython",
    "version": 3
   },
   "file_extension": ".py",
   "mimetype": "text/x-python",
   "name": "python",
   "nbconvert_exporter": "python",
   "pygments_lexer": "ipython3",
   "version": "3.13.1"
  }
 },
 "nbformat": 4,
 "nbformat_minor": 5
}
