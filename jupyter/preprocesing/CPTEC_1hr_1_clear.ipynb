{
 "cells": [
  {
   "cell_type": "code",
   "execution_count": 18,
   "id": "75234c49",
   "metadata": {},
   "outputs": [],
   "source": [
    "import os\n",
    "import sys\n",
    "import glob\n",
    "import numpy as np\n",
    "import pandas as pd\n",
    "import geopandas as gpd\n",
    "\n",
    "from multiprocessing import Pool\n",
    "\n",
    "import cartopy.feature as cf\n",
    "import cartopy.crs as ccrs\n",
    "\n",
    "from matplotlib import patches\n",
    "import matplotlib.pyplot as plt\n",
    "import matplotlib.gridspec as gridspec"
   ]
  },
  {
   "cell_type": "code",
   "execution_count": 2,
   "id": "ff487331",
   "metadata": {},
   "outputs": [],
   "source": [
    "year = 2024\n",
    "\n",
    "SA_lon_min, SA_lon_max, SA_lat_min, SA_lat_max = -83,-33,-55,6"
   ]
  },
  {
   "cell_type": "code",
   "execution_count": 3,
   "id": "8161ae44",
   "metadata": {},
   "outputs": [],
   "source": [
    "dir_base = os.path.join('/','media','arturo','Arturo','Data','Brazil','OBS_CPTEC','1hr')"
   ]
  },
  {
   "cell_type": "code",
   "execution_count": 4,
   "id": "617bb0df",
   "metadata": {},
   "outputs": [
    {
     "name": "stdout",
     "output_type": "stream",
     "text": [
      "Number of files: 12\n"
     ]
    }
   ],
   "source": [
    "list_files = glob.glob(os.path.join(dir_base,str(year),'raw','*.txt'))\n",
    "list_files = sorted(list_files)\n",
    "list_len = len(list_files)\n",
    "print(f'Number of files: {list_len}')"
   ]
  },
  {
   "cell_type": "code",
   "execution_count": 5,
   "id": "cbed7dbe",
   "metadata": {},
   "outputs": [
    {
     "data": {
      "text/html": [
       "<div>\n",
       "<style scoped>\n",
       "    .dataframe tbody tr th:only-of-type {\n",
       "        vertical-align: middle;\n",
       "    }\n",
       "\n",
       "    .dataframe tbody tr th {\n",
       "        vertical-align: top;\n",
       "    }\n",
       "\n",
       "    .dataframe thead th {\n",
       "        text-align: right;\n",
       "    }\n",
       "</style>\n",
       "<table border=\"1\" class=\"dataframe\">\n",
       "  <thead>\n",
       "    <tr style=\"text-align: right;\">\n",
       "      <th></th>\n",
       "      <th>code</th>\n",
       "      <th>lon</th>\n",
       "      <th>lat</th>\n",
       "      <th>alt</th>\n",
       "      <th>date</th>\n",
       "      <th>r</th>\n",
       "    </tr>\n",
       "  </thead>\n",
       "  <tbody>\n",
       "    <tr>\n",
       "      <th>0</th>\n",
       "      <td>14540000</td>\n",
       "      <td>-60.4706</td>\n",
       "      <td>4.6306</td>\n",
       "      <td>0</td>\n",
       "      <td>2024120100</td>\n",
       "      <td>0.0</td>\n",
       "    </tr>\n",
       "    <tr>\n",
       "      <th>1</th>\n",
       "      <td>140070401A</td>\n",
       "      <td>-60.1630</td>\n",
       "      <td>4.5945</td>\n",
       "      <td>-9999</td>\n",
       "      <td>2024120100</td>\n",
       "      <td>0.0</td>\n",
       "    </tr>\n",
       "    <tr>\n",
       "      <th>2</th>\n",
       "      <td>14530000</td>\n",
       "      <td>-60.7939</td>\n",
       "      <td>4.1961</td>\n",
       "      <td>0</td>\n",
       "      <td>2024120100</td>\n",
       "      <td>0.0</td>\n",
       "    </tr>\n",
       "  </tbody>\n",
       "</table>\n",
       "</div>"
      ],
      "text/plain": [
       "         code      lon     lat   alt        date    r\n",
       "0    14540000 -60.4706  4.6306     0  2024120100  0.0\n",
       "1  140070401A -60.1630  4.5945 -9999  2024120100  0.0\n",
       "2    14530000 -60.7939  4.1961     0  2024120100  0.0"
      ]
     },
     "execution_count": 5,
     "metadata": {},
     "output_type": "execute_result"
    }
   ],
   "source": [
    "filename = os.path.join(dir_base,list_files[-1])\n",
    "DATA = pd.read_csv(filename,skiprows=2,skipfooter=3,sep=' ',engine='python')\n",
    "DATA = DATA[(DATA.lon>-83)&(DATA.lon<-33)&(DATA.lat>=-55)&(DATA.lat<=6)]\n",
    "DATA.reset_index(drop=True,inplace=False)\n",
    "DATA.head(3)"
   ]
  },
  {
   "cell_type": "code",
   "execution_count": 6,
   "id": "37df7761",
   "metadata": {},
   "outputs": [
    {
     "name": "stdout",
     "output_type": "stream",
     "text": [
      "Year    : 2024\n",
      "Stations: 6022\n"
     ]
    }
   ],
   "source": [
    "code_list = DATA['code'].values \n",
    "code_unique = np.unique(code_list)\n",
    "print(f'Year    : {year}')\n",
    "print(f'Stations: {len(code_unique)}')"
   ]
  },
  {
   "cell_type": "code",
   "execution_count": 8,
   "id": "16cbd545",
   "metadata": {},
   "outputs": [],
   "source": [
    "code_input = code_unique[0]"
   ]
  },
  {
   "cell_type": "code",
   "execution_count": 38,
   "id": "22bcd554",
   "metadata": {},
   "outputs": [],
   "source": [
    "def search_concat(code_input, DATA):\n",
    "    print(f'Station: {code_input}')\n",
    "    df_list = []\n",
    "    \n",
    "    nameout = f'obs_cptec_{code_input}.csv'\n",
    "    dir_out = os.path.join(dir_base,str(year),'clear',nameout)\n",
    "    \n",
    "    if os.path.exists(dir_out):\n",
    "        # print('File Exists')\n",
    "        return\n",
    "    else:\n",
    "        for nn in range(list_len):\n",
    "            filename = os.path.join(dir_base,list_files[nn])\n",
    "            DATA = pd.read_csv(filename,skiprows=2,skipfooter=3,sep=' ',engine='python')\n",
    "            DATA_ref = DATA[DATA['code']==code_input]\n",
    "            if not DATA_ref.empty:\n",
    "                df_list.append(DATA_ref)\n",
    "    \n",
    "    DATA_all = pd.concat(df_list, ignore_index=True)\n",
    "    DATA_all['date'] = pd.to_datetime(DATA_all['date'].astype(str), format='%Y%m%d%H')\n",
    "    \n",
    "    DATA_all['lat'] = DATA_all['lat'].round(2)\n",
    "    DATA_all['lon'] = DATA_all['lon'].round(2)\n",
    "    \n",
    "    # modulo para remover tiempos duplicados\n",
    "    df_sorted = DATA_all.sort_values(by='r', ascending=False)\n",
    "    df_unique = df_sorted.drop_duplicates(subset=['date'], keep='first').reset_index(drop=True)\n",
    "    \n",
    "    df_final = df_unique.sort_values(by='date').reset_index(drop=True)\n",
    "    \n",
    "    df_final.to_csv(dir_out, header=True, index=False)\n",
    "    \n",
    "    return DATA_all"
   ]
  },
  {
   "cell_type": "code",
   "execution_count": 39,
   "id": "005cb25b",
   "metadata": {},
   "outputs": [
    {
     "name": "stdout",
     "output_type": "stream",
     "text": [
      "Station: -9999Station: 21770080Station: 15700000Station: 261110103AStation: 24735000\n",
      "\n",
      "\n",
      "\n",
      "\n",
      "Station: 02042051\n",
      "Station: 24735100\n",
      "Station: 15710000\n",
      "Station: 21780080\n",
      "Station: 261110103C\n"
     ]
    },
    {
     "ename": "KeyboardInterrupt",
     "evalue": "",
     "output_type": "error",
     "traceback": [
      "\u001b[0;31m---------------------------------------------------------------------------\u001b[0m",
      "\u001b[0;31mKeyboardInterrupt\u001b[0m                         Traceback (most recent call last)",
      "Cell \u001b[0;32mIn[39], line 6\u001b[0m\n\u001b[1;32m      3\u001b[0m     \u001b[38;5;28;01mreturn\u001b[39;00m search_concat(code_input, DATA)\n\u001b[1;32m      5\u001b[0m \u001b[38;5;28;01mwith\u001b[39;00m Pool(processes\u001b[38;5;241m=\u001b[39m\u001b[38;5;241m5\u001b[39m) \u001b[38;5;28;01mas\u001b[39;00m pool:\n\u001b[0;32m----> 6\u001b[0m     results \u001b[38;5;241m=\u001b[39m \u001b[43mpool\u001b[49m\u001b[38;5;241;43m.\u001b[39;49m\u001b[43mmap\u001b[49m\u001b[43m(\u001b[49m\u001b[43mcompute_for_point\u001b[49m\u001b[43m,\u001b[49m\u001b[43m \u001b[49m\u001b[43m[\u001b[49m\u001b[43m(\u001b[49m\u001b[43mcode_input\u001b[49m\u001b[43m)\u001b[49m\u001b[43m \u001b[49m\u001b[38;5;28;43;01mfor\u001b[39;49;00m\u001b[43m \u001b[49m\u001b[43mcode_input\u001b[49m\u001b[43m \u001b[49m\u001b[38;5;129;43;01min\u001b[39;49;00m\u001b[43m \u001b[49m\u001b[43mcode_unique\u001b[49m\u001b[43m]\u001b[49m\u001b[43m)\u001b[49m\n",
      "File \u001b[0;32m~/anaconda3/envs/AXE/lib/python3.13/multiprocessing/pool.py:367\u001b[0m, in \u001b[0;36mPool.map\u001b[0;34m(self, func, iterable, chunksize)\u001b[0m\n\u001b[1;32m    362\u001b[0m \u001b[38;5;28;01mdef\u001b[39;00m \u001b[38;5;21mmap\u001b[39m(\u001b[38;5;28mself\u001b[39m, func, iterable, chunksize\u001b[38;5;241m=\u001b[39m\u001b[38;5;28;01mNone\u001b[39;00m):\n\u001b[1;32m    363\u001b[0m \u001b[38;5;250m    \u001b[39m\u001b[38;5;124;03m'''\u001b[39;00m\n\u001b[1;32m    364\u001b[0m \u001b[38;5;124;03m    Apply `func` to each element in `iterable`, collecting the results\u001b[39;00m\n\u001b[1;32m    365\u001b[0m \u001b[38;5;124;03m    in a list that is returned.\u001b[39;00m\n\u001b[1;32m    366\u001b[0m \u001b[38;5;124;03m    '''\u001b[39;00m\n\u001b[0;32m--> 367\u001b[0m     \u001b[38;5;28;01mreturn\u001b[39;00m \u001b[38;5;28;43mself\u001b[39;49m\u001b[38;5;241;43m.\u001b[39;49m\u001b[43m_map_async\u001b[49m\u001b[43m(\u001b[49m\u001b[43mfunc\u001b[49m\u001b[43m,\u001b[49m\u001b[43m \u001b[49m\u001b[43miterable\u001b[49m\u001b[43m,\u001b[49m\u001b[43m \u001b[49m\u001b[43mmapstar\u001b[49m\u001b[43m,\u001b[49m\u001b[43m \u001b[49m\u001b[43mchunksize\u001b[49m\u001b[43m)\u001b[49m\u001b[38;5;241;43m.\u001b[39;49m\u001b[43mget\u001b[49m\u001b[43m(\u001b[49m\u001b[43m)\u001b[49m\n",
      "File \u001b[0;32m~/anaconda3/envs/AXE/lib/python3.13/multiprocessing/pool.py:768\u001b[0m, in \u001b[0;36mApplyResult.get\u001b[0;34m(self, timeout)\u001b[0m\n\u001b[1;32m    767\u001b[0m \u001b[38;5;28;01mdef\u001b[39;00m \u001b[38;5;21mget\u001b[39m(\u001b[38;5;28mself\u001b[39m, timeout\u001b[38;5;241m=\u001b[39m\u001b[38;5;28;01mNone\u001b[39;00m):\n\u001b[0;32m--> 768\u001b[0m     \u001b[38;5;28;43mself\u001b[39;49m\u001b[38;5;241;43m.\u001b[39;49m\u001b[43mwait\u001b[49m\u001b[43m(\u001b[49m\u001b[43mtimeout\u001b[49m\u001b[43m)\u001b[49m\n\u001b[1;32m    769\u001b[0m     \u001b[38;5;28;01mif\u001b[39;00m \u001b[38;5;129;01mnot\u001b[39;00m \u001b[38;5;28mself\u001b[39m\u001b[38;5;241m.\u001b[39mready():\n\u001b[1;32m    770\u001b[0m         \u001b[38;5;28;01mraise\u001b[39;00m \u001b[38;5;167;01mTimeoutError\u001b[39;00m\n",
      "File \u001b[0;32m~/anaconda3/envs/AXE/lib/python3.13/multiprocessing/pool.py:765\u001b[0m, in \u001b[0;36mApplyResult.wait\u001b[0;34m(self, timeout)\u001b[0m\n\u001b[1;32m    764\u001b[0m \u001b[38;5;28;01mdef\u001b[39;00m \u001b[38;5;21mwait\u001b[39m(\u001b[38;5;28mself\u001b[39m, timeout\u001b[38;5;241m=\u001b[39m\u001b[38;5;28;01mNone\u001b[39;00m):\n\u001b[0;32m--> 765\u001b[0m     \u001b[38;5;28;43mself\u001b[39;49m\u001b[38;5;241;43m.\u001b[39;49m\u001b[43m_event\u001b[49m\u001b[38;5;241;43m.\u001b[39;49m\u001b[43mwait\u001b[49m\u001b[43m(\u001b[49m\u001b[43mtimeout\u001b[49m\u001b[43m)\u001b[49m\n",
      "File \u001b[0;32m~/anaconda3/envs/AXE/lib/python3.13/threading.py:659\u001b[0m, in \u001b[0;36mEvent.wait\u001b[0;34m(self, timeout)\u001b[0m\n\u001b[1;32m    657\u001b[0m signaled \u001b[38;5;241m=\u001b[39m \u001b[38;5;28mself\u001b[39m\u001b[38;5;241m.\u001b[39m_flag\n\u001b[1;32m    658\u001b[0m \u001b[38;5;28;01mif\u001b[39;00m \u001b[38;5;129;01mnot\u001b[39;00m signaled:\n\u001b[0;32m--> 659\u001b[0m     signaled \u001b[38;5;241m=\u001b[39m \u001b[38;5;28;43mself\u001b[39;49m\u001b[38;5;241;43m.\u001b[39;49m\u001b[43m_cond\u001b[49m\u001b[38;5;241;43m.\u001b[39;49m\u001b[43mwait\u001b[49m\u001b[43m(\u001b[49m\u001b[43mtimeout\u001b[49m\u001b[43m)\u001b[49m\n\u001b[1;32m    660\u001b[0m \u001b[38;5;28;01mreturn\u001b[39;00m signaled\n",
      "File \u001b[0;32m~/anaconda3/envs/AXE/lib/python3.13/threading.py:359\u001b[0m, in \u001b[0;36mCondition.wait\u001b[0;34m(self, timeout)\u001b[0m\n\u001b[1;32m    357\u001b[0m \u001b[38;5;28;01mtry\u001b[39;00m:    \u001b[38;5;66;03m# restore state no matter what (e.g., KeyboardInterrupt)\u001b[39;00m\n\u001b[1;32m    358\u001b[0m     \u001b[38;5;28;01mif\u001b[39;00m timeout \u001b[38;5;129;01mis\u001b[39;00m \u001b[38;5;28;01mNone\u001b[39;00m:\n\u001b[0;32m--> 359\u001b[0m         \u001b[43mwaiter\u001b[49m\u001b[38;5;241;43m.\u001b[39;49m\u001b[43macquire\u001b[49m\u001b[43m(\u001b[49m\u001b[43m)\u001b[49m\n\u001b[1;32m    360\u001b[0m         gotit \u001b[38;5;241m=\u001b[39m \u001b[38;5;28;01mTrue\u001b[39;00m\n\u001b[1;32m    361\u001b[0m     \u001b[38;5;28;01melse\u001b[39;00m:\n",
      "\u001b[0;31mKeyboardInterrupt\u001b[0m: "
     ]
    }
   ],
   "source": [
    "def compute_for_point(args):\n",
    "    code_input = args\n",
    "    return search_concat(code_input, DATA)\n",
    "\n",
    "with Pool(processes=5) as pool:\n",
    "    results = pool.map(compute_for_point, [(code_input) for code_input in code_unique])"
   ]
  },
  {
   "cell_type": "markdown",
   "id": "75b507f4",
   "metadata": {},
   "source": [
    "## OLD code only for one file at a time"
   ]
  },
  {
   "cell_type": "code",
   "execution_count": null,
   "id": "fae76207",
   "metadata": {},
   "outputs": [],
   "source": [
    "# for pos in range(len(code_unique)):\n",
    "#     print(f'Station: {code_unique[pos]}')\n",
    "#     df_list = []\n",
    "\n",
    "#     nameout = f'obs_cptec_{code_unique[pos]}.csv'\n",
    "#     dir_out = os.path.join(dir_base,str(year),'clear',nameout)\n",
    "\n",
    "#     if os.path.exists(dir_out):\n",
    "#             continue\n",
    "#     else:\n",
    "#         for nn in range(list_len):\n",
    "#             filename = os.path.join(dir_base,list_files[nn])\n",
    "#             DATA = pd.read_csv(filename,skiprows=2,skipfooter=3,sep=' ',engine='python')\n",
    "#             DATA_ref = DATA[DATA['code']==code_unique[pos]]\n",
    "#             if not DATA_ref.empty:\n",
    "#                 df_list.append(DATA_ref)\n",
    "\n",
    "#     DATA_all = pd.concat(df_list, ignore_index=True)\n",
    "#     DATA_all['date'] = pd.to_datetime(DATA_all['date'].astype(str), format='%Y%m%d%H')\n",
    "#     DATA_all.to_csv(dir_out, header=True, index=False)"
   ]
  },
  {
   "cell_type": "code",
   "execution_count": null,
   "id": "821fb44c",
   "metadata": {},
   "outputs": [],
   "source": []
  },
  {
   "cell_type": "code",
   "execution_count": null,
   "id": "2070fbe2",
   "metadata": {},
   "outputs": [],
   "source": []
  }
 ],
 "metadata": {
  "kernelspec": {
   "display_name": "AXE",
   "language": "python",
   "name": "python3"
  },
  "language_info": {
   "codemirror_mode": {
    "name": "ipython",
    "version": 3
   },
   "file_extension": ".py",
   "mimetype": "text/x-python",
   "name": "python",
   "nbconvert_exporter": "python",
   "pygments_lexer": "ipython3",
   "version": "3.13.1"
  }
 },
 "nbformat": 4,
 "nbformat_minor": 5
}
