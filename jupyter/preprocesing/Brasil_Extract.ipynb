{
 "cells": [
  {
   "cell_type": "code",
   "execution_count": 1,
   "id": "33fe545c",
   "metadata": {},
   "outputs": [],
   "source": [
    "import os\n",
    "import glob\n",
    "import pandas as pd\n",
    "import numpy as np\n",
    "import xarray as xr\n",
    "\n",
    "import cartopy.crs as ccrs\n",
    "import cartopy.feature as cf\n",
    "\n",
    "import matplotlib.pyplot as plt\n",
    "import matplotlib.gridspec as gridspec"
   ]
  },
  {
   "cell_type": "markdown",
   "id": "64669b4a",
   "metadata": {},
   "source": [
    "## Extract Brazil Area"
   ]
  },
  {
   "cell_type": "code",
   "execution_count": 2,
   "id": "7d66cf96",
   "metadata": {},
   "outputs": [],
   "source": [
    "dir_base = os.path.join('/','media','arturo','Arturo','Data','Brazil')"
   ]
  },
  {
   "cell_type": "code",
   "execution_count": 3,
   "id": "ecb56bd4",
   "metadata": {},
   "outputs": [],
   "source": [
    "# # MERGE_INPE\n",
    "# INPUT_path = os.path.join(dir_base,'MERGE_INPE','MERGE-INPE_SA_1h_2024_01_01_2024_12_31.nc')\n",
    "# OUTPUT_path = os.path.join(dir_base,'MERGE_INPE','MERGE-INPE_BR_1h_2024_01_01_2024_12_31.nc')\n",
    "\n",
    "# # GSMaP-NOW\n",
    "# INPUT_path = os.path.join(dir_base,'GSMaP','NOW','GSMaP_NOW_SA_1h_2024_01_01_2024_12_31.nc')\n",
    "# OUTPUT_path = os.path.join(dir_base,'GSMaP','NOW','GSMaP_NOW_BR_1h_2024_01_01_2024_12_31.nc')\n",
    "\n",
    "# GSMaP-NRT\n",
    "INPUT_path = os.path.join(dir_base,'GSMaP','NRT','GSMaP_NRT_SA_1h_2024_01_01_2024_12_31.nc')\n",
    "OUTPUT_path = os.path.join(dir_base,'GSMaP','NRT','GSMaP_NRT_BR_1h_2024_01_01_2024_12_31.nc')"
   ]
  },
  {
   "cell_type": "code",
   "execution_count": 4,
   "id": "d15b5973",
   "metadata": {},
   "outputs": [],
   "source": [
    "BR_lon_min, BR_lon_max, BR_lat_min, BR_lat_max = -75,-33,-36,6"
   ]
  },
  {
   "cell_type": "code",
   "execution_count": null,
   "id": "14b2ca4e",
   "metadata": {},
   "outputs": [],
   "source": [
    "DATA = xr.open_dataset(INPUT_path)\n",
    "\n",
    "DATA = DATA.sel(\n",
    "    lon=slice(BR_lon_min, BR_lon_max),\n",
    "    lat=slice(BR_lat_max, BR_lat_min))"
   ]
  },
  {
   "cell_type": "code",
   "execution_count": 6,
   "id": "98624c28",
   "metadata": {},
   "outputs": [
    {
     "name": "stdout",
     "output_type": "stream",
     "text": [
      "Export PRE data to /media/arturo/Arturo/Data/Brazil/GSMaP/NRT/GSMaP_NRT_BR_1h_2024_01_01_2024_12_31.nc\n"
     ]
    }
   ],
   "source": [
    "PRE_out = os.path.join(dir_base,OUTPUT_path)\n",
    "print(f'Export PRE data to {PRE_out}')\n",
    "DATA.to_netcdf(PRE_out)"
   ]
  },
  {
   "cell_type": "code",
   "execution_count": null,
   "id": "dfdc58fa",
   "metadata": {},
   "outputs": [],
   "source": []
  }
 ],
 "metadata": {
  "kernelspec": {
   "display_name": "AXE",
   "language": "python",
   "name": "python3"
  },
  "language_info": {
   "codemirror_mode": {
    "name": "ipython",
    "version": 3
   },
   "file_extension": ".py",
   "mimetype": "text/x-python",
   "name": "python",
   "nbconvert_exporter": "python",
   "pygments_lexer": "ipython3",
   "version": "3.13.1"
  }
 },
 "nbformat": 4,
 "nbformat_minor": 5
}
