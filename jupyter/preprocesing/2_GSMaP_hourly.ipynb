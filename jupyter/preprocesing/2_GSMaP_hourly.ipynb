{
 "cells": [
  {
   "cell_type": "code",
   "execution_count": 1,
   "id": "40958589",
   "metadata": {},
   "outputs": [],
   "source": [
    "import os\n",
    "import sys\n",
    "import glob\n",
    "import gzip\n",
    "import numpy as np\n",
    "import pandas as pd\n",
    "import xarray as xr\n",
    "import geopandas as gpd\n",
    "\n",
    "import cartopy.feature as cf\n",
    "import cartopy.crs as ccrs\n",
    "\n",
    "from matplotlib import patches\n",
    "import matplotlib.pyplot as plt\n",
    "import matplotlib.gridspec as gridspec"
   ]
  },
  {
   "cell_type": "markdown",
   "id": "b0a4b2d4",
   "metadata": {},
   "source": [
    "# Hourly Accumulation for NOW"
   ]
  },
  {
   "cell_type": "code",
   "execution_count": 2,
   "id": "4ffb2231",
   "metadata": {},
   "outputs": [],
   "source": [
    "product = 'NOW'"
   ]
  },
  {
   "cell_type": "code",
   "execution_count": 3,
   "id": "1b9d5443",
   "metadata": {},
   "outputs": [],
   "source": [
    "dir_base = os.path.join('/','media','arturo','Arturo','Data','Brazil')"
   ]
  },
  {
   "cell_type": "code",
   "execution_count": 4,
   "id": "d88ed71d",
   "metadata": {},
   "outputs": [],
   "source": [
    "DATA = xr.open_dataset(os.path.join(dir_base,'GSMaP',product,f'GSMaP_{product}_SA_30min_2024_01_01_2024_12_31.nc'))\n",
    "DATA['time'] = pd.to_datetime(DATA['time'].values)"
   ]
  },
  {
   "cell_type": "code",
   "execution_count": 5,
   "id": "49e11c61",
   "metadata": {},
   "outputs": [],
   "source": [
    "hourly_accum = DATA['PRE'].resample(time='1h').sum()"
   ]
  },
  {
   "cell_type": "code",
   "execution_count": 6,
   "id": "d6970481",
   "metadata": {},
   "outputs": [
    {
     "name": "stdout",
     "output_type": "stream",
     "text": [
      "Export PRE data to /media/arturo/Arturo/Data/Brazil/GSMaP/NOW/GSMaP_NOW_SA_1h_2024_01_01_2024_12_31.nc\n"
     ]
    }
   ],
   "source": [
    "hourly_out = os.path.join(dir_base,'GSMaP',product,f'GSMaP_{product}_SA_1h_2024_01_01_2024_12_31.nc')\n",
    "print(f'Export PRE data to {hourly_out}')\n",
    "hourly_accum.to_netcdf(hourly_out)"
   ]
  }
 ],
 "metadata": {
  "kernelspec": {
   "display_name": "AXE",
   "language": "python",
   "name": "python3"
  },
  "language_info": {
   "codemirror_mode": {
    "name": "ipython",
    "version": 3
   },
   "file_extension": ".py",
   "mimetype": "text/x-python",
   "name": "python",
   "nbconvert_exporter": "python",
   "pygments_lexer": "ipython3",
   "version": "3.13.1"
  }
 },
 "nbformat": 4,
 "nbformat_minor": 5
}
