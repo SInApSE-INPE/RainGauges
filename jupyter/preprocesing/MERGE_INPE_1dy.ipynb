{
 "cells": [
  {
   "cell_type": "code",
   "execution_count": 1,
   "id": "f08f9ace",
   "metadata": {},
   "outputs": [],
   "source": [
    "import os\n",
    "import glob\n",
    "import pandas as pd\n",
    "import numpy as np\n",
    "import xarray as xr\n",
    "\n",
    "import cartopy.crs as ccrs\n",
    "import cartopy.feature as cf\n",
    "\n",
    "import matplotlib.pyplot as plt\n",
    "import matplotlib.gridspec as gridspec"
   ]
  },
  {
   "cell_type": "code",
   "execution_count": 2,
   "id": "aa2d75db",
   "metadata": {},
   "outputs": [],
   "source": [
    "dir_base = os.path.join('/','media','arturo','Arturo','Data','Brazil','MERGE_INPE')"
   ]
  },
  {
   "cell_type": "code",
   "execution_count": 3,
   "id": "cd8dbaa1",
   "metadata": {},
   "outputs": [],
   "source": [
    "DATA = xr.open_dataset(os.path.join(dir_base,'MERGE-INPE_SA_1h_2024_01_01_2024_12_31.nc'))"
   ]
  },
  {
   "cell_type": "code",
   "execution_count": 4,
   "id": "8786b6f7",
   "metadata": {},
   "outputs": [],
   "source": [
    "DAILY = DATA['PRE'].resample(time='1D').sum()"
   ]
  },
  {
   "cell_type": "code",
   "execution_count": null,
   "id": "c64b117c",
   "metadata": {},
   "outputs": [
    {
     "name": "stdout",
     "output_type": "stream",
     "text": [
      "Export PRE data to /media/arturo/Arturo/Data/Brazil/MERGE_INPE/MERGE-NOW_SA_1dy_2024.nc\n"
     ]
    }
   ],
   "source": [
    "PRE_xr = xr.Dataset(data_vars={\"PRE\": ((\"time\",\"lat\",\"lon\"), DAILY.data[:,::-1,:])},\n",
    "                    coords={'time': DAILY.time.data, 'lat': DAILY.lat.data, 'lon': DAILY.lon.data},\n",
    "                    attrs=dict(description=f'Daily MERGE-NOW INPE precipitation forin SA',))\n",
    "\n",
    "PRE_xr.PRE.attrs[\"units\"] = \"mm/h\"\n",
    "PRE_xr.PRE.attrs[\"long_name\"] = \"precipitation\"\n",
    "PRE_xr.PRE.attrs[\"origname\"] = \"precipitation\"\n",
    "\n",
    "PRE_xr.lat.attrs[\"units\"] = \"degrees_north\"\n",
    "PRE_xr.lat.attrs[\"long_name\"] = \"Latitude\"\n",
    "\n",
    "PRE_xr.lon.attrs[\"units\"] = \"degrees_east\"\n",
    "PRE_xr.lon.attrs[\"long_name\"] = \"Longitude\"\n",
    "\n",
    "PRE_out = os.path.join(dir_base,f'MERGE-NOW-INPE_SA_1dy_2024.nc')\n",
    "print(f'Export PRE data to {PRE_out}')\n",
    "PRE_xr.to_netcdf(PRE_out)"
   ]
  },
  {
   "cell_type": "code",
   "execution_count": 5,
   "id": "fc4ef141",
   "metadata": {},
   "outputs": [],
   "source": [
    "lon2d, lat2d = np.meshgrid(DATA.lon, DATA.lat)"
   ]
  },
  {
   "cell_type": "code",
   "execution_count": null,
   "id": "fac5d799",
   "metadata": {},
   "outputs": [],
   "source": [
    "levels = np.arange(0,36,2)\n",
    "# levels = None\n",
    "\n",
    "cmap = plt.cm.Spectral_r\n",
    "\n",
    "proj = ccrs.PlateCarree()\n",
    "fig = plt.figure(figsize=(3,3),dpi=300)\n",
    "gs = gridspec.GridSpec(1,1)\n",
    "\n",
    "#==================================================================================================\n",
    "ax1 = plt.subplot(gs[0, 0], projection = proj)\n",
    "# ax1.set_extent([-87,-30,-50,15],crs=proj)\n",
    "ax1.add_feature(cf.COASTLINE,linewidth=0.3, linestyle='-',edgecolor='k')\n",
    "ax1.add_feature(cf.BORDERS, linewidth=0.3, linestyle='-', edgecolor='k')\n",
    "\n",
    "a1 = ax1.contourf(lon2d, lat2d, np.mean(PRE_xr.PRE.values,axis=0),levels=levels, cmap=cmap)\n",
    "\n",
    "gl = ax1.gridlines(crs=proj,draw_labels=True,linewidth=0.2,color='gray',alpha=0.5,linestyle='--')\n",
    "gl.top_labels = False\n",
    "gl.bottom_labels = True\n",
    "gl.left_labels = True\n",
    "gl.right_labels = False\n",
    "gl.xlabel_style = {'size': 6, 'color': 'k'}\n",
    "gl.ylabel_style = {'size': 6, 'color': 'k'}\n"
   ]
  },
  {
   "cell_type": "code",
   "execution_count": null,
   "id": "3b0a10b3",
   "metadata": {},
   "outputs": [],
   "source": []
  }
 ],
 "metadata": {
  "kernelspec": {
   "display_name": "AXE",
   "language": "python",
   "name": "python3"
  },
  "language_info": {
   "codemirror_mode": {
    "name": "ipython",
    "version": 3
   },
   "file_extension": ".py",
   "mimetype": "text/x-python",
   "name": "python",
   "nbconvert_exporter": "python",
   "pygments_lexer": "ipython3",
   "version": "3.13.1"
  }
 },
 "nbformat": 4,
 "nbformat_minor": 5
}
