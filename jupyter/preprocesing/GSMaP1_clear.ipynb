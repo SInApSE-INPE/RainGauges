{
 "cells": [
  {
   "cell_type": "code",
   "execution_count": 1,
   "id": "64b6befb",
   "metadata": {},
   "outputs": [],
   "source": [
    "import os\n",
    "import sys\n",
    "import glob\n",
    "import gzip\n",
    "import numpy as np\n",
    "import pandas as pd\n",
    "import xarray as xr\n",
    "import geopandas as gpd\n",
    "\n",
    "import cartopy.feature as cf\n",
    "import cartopy.crs as ccrs\n",
    "\n",
    "from matplotlib import patches\n",
    "import matplotlib.pyplot as plt\n",
    "import matplotlib.gridspec as gridspec"
   ]
  },
  {
   "cell_type": "code",
   "execution_count": null,
   "id": "dec73f42",
   "metadata": {},
   "outputs": [],
   "source": [
    "# product = 'NOW', time_reso='30min'\n",
    "product = 'NRT', time_reso='1h'"
   ]
  },
  {
   "cell_type": "code",
   "execution_count": 3,
   "id": "538dc86a",
   "metadata": {},
   "outputs": [],
   "source": [
    "dir_base = os.path.join('/','media','arturo','Arturo','Data','Brazil','GSMaP')"
   ]
  },
  {
   "cell_type": "markdown",
   "id": "b2802427",
   "metadata": {},
   "source": [
    "## Daily Accumulations"
   ]
  },
  {
   "cell_type": "code",
   "execution_count": 4,
   "id": "d2be4fe2",
   "metadata": {},
   "outputs": [
    {
     "name": "stdout",
     "output_type": "stream",
     "text": [
      "Number of times: 8784\n"
     ]
    }
   ],
   "source": [
    "if product == 'NOW':\n",
    "    time_total = 48\n",
    "    dates_list = pd.date_range(\n",
    "        start=f\"2024-01-01 00:00:00\",\n",
    "        end=f\"2024-12-31 23:59:00\",\n",
    "        freq=\"30min\"\n",
    "        ).strftime(\"%Y-%m-%d %H:%M:%S\").tolist()\n",
    "\n",
    "elif product == 'NRT':\n",
    "    time_total = 24\n",
    "    dates_list = pd.date_range(\n",
    "        start=f\"2024-01-01 00:00:00\",\n",
    "        end=f\"2024-12-31 23:59:00\",\n",
    "        freq=\"h\"\n",
    "        ).strftime(\"%Y-%m-%d %H:%M:%S\").tolist()\n",
    "\n",
    "print(f'Number of times: {len(dates_list)}')"
   ]
  },
  {
   "cell_type": "code",
   "execution_count": 5,
   "id": "fdea5ee5",
   "metadata": {},
   "outputs": [
    {
     "ename": "SystemExit",
     "evalue": "jeje",
     "output_type": "error",
     "traceback": [
      "An exception has occurred, use %tb to see the full traceback.\n",
      "\u001b[0;31mSystemExit\u001b[0m\u001b[0;31m:\u001b[0m jeje\n"
     ]
    },
    {
     "name": "stderr",
     "output_type": "stream",
     "text": [
      "/home/arturo/anaconda3/envs/AXE/lib/python3.13/site-packages/IPython/core/interactiveshell.py:3585: UserWarning: To exit: use 'exit', 'quit', or Ctrl-D.\n",
      "  warn(\"To exit: use 'exit', 'quit', or Ctrl-D.\", stacklevel=1)\n"
     ]
    }
   ],
   "source": [
    "sys.exit('jeje')"
   ]
  },
  {
   "cell_type": "code",
   "execution_count": 5,
   "id": "f54525ad",
   "metadata": {},
   "outputs": [
    {
     "name": "stdout",
     "output_type": "stream",
     "text": [
      "Month: 01\n",
      "Month: 02\n",
      "Month: 03\n",
      "Month: 04\n",
      "Month: 05\n",
      "Month: 06\n",
      "Month: 07\n",
      "Month: 08\n",
      "Month: 09\n",
      "Month: 10\n",
      "Month: 11\n",
      "Month: 12\n"
     ]
    }
   ],
   "source": [
    "months_large = [1, 3, 5, 7, 8, 10, 12]\n",
    "pos = 0\n",
    "\n",
    "for mm in range(1,13):\n",
    "    print(f'Month: {str(mm).zfill(2)}')\n",
    "    if mm in months_large:\n",
    "        for dd in range(1,32):\n",
    "            file_list = glob.glob(os.path.join(dir_base,product,'raw','2024',str(mm).zfill(2),str(dd).zfill(2),'*.gz'))\n",
    "            file_list = sorted(file_list)\n",
    "            file_len = len(file_list)\n",
    "            if file_len != time_total:\n",
    "                print(f'  WARNING! Month: {mm} day {dd} has {file_len} files')\n",
    "\n",
    "            PRE = np.zeros((file_len, 610, 500), dtype=np.float32)\n",
    "            for nn in range(file_len):\n",
    "                with gzip.open(file_list[nn], mode='rb') as handle:\n",
    "                    data_ = np.frombuffer(handle.read(), dtype=np.float32).reshape(610, 500)\n",
    "                    PRE[nn,:,:] = np.round(data_,3) * 0.5 # Acumulamos la precipitación\n",
    "            PRE[PRE<0]=np.nan\n",
    "\n",
    "            PRE_flat = PRE.ravel()\n",
    "            with gzip.open(os.path.join(dir_base,product,'raw_1dy',f'{product}_2024_{str(mm).zfill(2)}_{str(dd).zfill(2)}.dat.gz'), 'wb') as f:\n",
    "                f.write(PRE_flat.tobytes())\n",
    "\n",
    "    if mm == 2:\n",
    "        for dd in range(1,29):\n",
    "            file_list = glob.glob(os.path.join(dir_base,product,'raw','2024',str(mm).zfill(2),str(dd).zfill(2),'*.gz'))\n",
    "            file_list = sorted(file_list)\n",
    "            file_len = len(file_list)\n",
    "            if file_len != time_total:\n",
    "                print(f'  WARNING! Month: {mm} day {dd} has {file_len} files')\n",
    "\n",
    "            PRE = np.zeros((file_len, 610, 500), dtype=np.float32)\n",
    "            for nn in range(file_len):\n",
    "                with gzip.open(file_list[nn], mode='rb') as handle:\n",
    "                    data_ = np.frombuffer(handle.read(), dtype=np.float32).reshape(610, 500)\n",
    "                    PRE[nn,:,:] = np.round(data_,3) * 0.5  # Acumulamos la precipitación\n",
    "            PRE[PRE<0]=np.nan\n",
    "            \n",
    "            PRE_flat = PRE.ravel()\n",
    "            with gzip.open(os.path.join(dir_base,product,'raw_1dy',f'{product}_2024_{str(mm).zfill(2)}_{str(dd).zfill(2)}.dat.gz'), 'wb') as f:\n",
    "                f.write(PRE_flat.tobytes())\n",
    "\n",
    "    else:\n",
    "        for dd in range(1,31):\n",
    "            file_list = glob.glob(os.path.join(dir_base,product,'raw','2024',str(mm).zfill(2),str(dd).zfill(2),'*.gz'))\n",
    "            file_list = sorted(file_list)\n",
    "            file_len = len(file_list)\n",
    "            if file_len != time_total:\n",
    "                print(f'  WARNING! Month: {mm} day {dd} has {file_len} files')\n",
    "\n",
    "            PRE = np.zeros((file_len, 610, 500), dtype=np.float32)\n",
    "            for nn in range(file_len):\n",
    "                with gzip.open(file_list[nn], mode='rb') as handle:\n",
    "                    data_ = np.frombuffer(handle.read(), dtype=np.float32).reshape(610, 500)\n",
    "                    PRE[nn,:,:] = np.round(data_,3) * 0.5  # Acumulamos la precipitación\n",
    "            PRE[PRE<0]=np.nan\n",
    "            \n",
    "            PRE_flat = PRE.ravel()\n",
    "            with gzip.open(os.path.join(dir_base,product,'raw_1dy',f'{product}_2024_{str(mm).zfill(2)}_{str(dd).zfill(2)}.dat.gz'), 'wb') as f:\n",
    "                f.write(PRE_flat.tobytes())\n"
   ]
  },
  {
   "cell_type": "code",
   "execution_count": null,
   "id": "5d1da1e4",
   "metadata": {},
   "outputs": [
    {
     "ename": "SystemExit",
     "evalue": "jeje",
     "output_type": "error",
     "traceback": [
      "An exception has occurred, use %tb to see the full traceback.\n",
      "\u001b[0;31mSystemExit\u001b[0m\u001b[0;31m:\u001b[0m jeje\n"
     ]
    },
    {
     "name": "stderr",
     "output_type": "stream",
     "text": [
      "/home/arturo/anaconda3/envs/AXE/lib/python3.13/site-packages/IPython/core/interactiveshell.py:3585: UserWarning: To exit: use 'exit', 'quit', or Ctrl-D.\n",
      "  warn(\"To exit: use 'exit', 'quit', or Ctrl-D.\", stacklevel=1)\n"
     ]
    }
   ],
   "source": [
    "sys.exit('jeje')"
   ]
  },
  {
   "cell_type": "markdown",
   "id": "a9a51956",
   "metadata": {},
   "source": [
    "## All Accumulations"
   ]
  },
  {
   "cell_type": "code",
   "execution_count": 5,
   "id": "c0e9db95",
   "metadata": {},
   "outputs": [
    {
     "name": "stdout",
     "output_type": "stream",
     "text": [
      "Files: 365\n"
     ]
    }
   ],
   "source": [
    "file_list = glob.glob(os.path.join(dir_base,product,'raw_1dy','*.gz'))\n",
    "file_list = sorted(file_list)\n",
    "file_len = len(file_list)\n",
    "print(f'Files: {file_len}')"
   ]
  },
  {
   "cell_type": "code",
   "execution_count": 6,
   "id": "adf11840",
   "metadata": {},
   "outputs": [],
   "source": [
    "PRE_LIST = []\n",
    "\n",
    "if product == 'NOW':\n",
    "    for nn in range(len(file_list[59:])): # From March\n",
    "        with gzip.open(file_list[59:][nn], mode='rb') as handle:\n",
    "            data_ = np.frombuffer(handle.read(), dtype=np.float32).reshape(48, 610, 500)\n",
    "            PRE_LIST.append(data_)\n",
    "\n",
    "elif product == 'NRT':\n",
    "    for nn in range(len(file_list)):\n",
    "        with gzip.open(file_list[nn], mode='rb') as handle:\n",
    "            data_ = np.frombuffer(handle.read(), dtype=np.float32).reshape(24, 610, 500)\n",
    "            PRE_LIST.append(data_)\n",
    "\n",
    "PRE_FINAL = np.concatenate(PRE_LIST, axis=0)"
   ]
  },
  {
   "cell_type": "code",
   "execution_count": 7,
   "id": "7500ce93",
   "metadata": {},
   "outputs": [],
   "source": [
    "lat = np.arange(-55,6,0.1)\n",
    "lon = np.arange(-83,-33,0.1)\n",
    "lon2d, lat2d = np.meshgrid(lon, lat)"
   ]
  },
  {
   "cell_type": "code",
   "execution_count": 8,
   "id": "3326a86e",
   "metadata": {},
   "outputs": [
    {
     "name": "stdout",
     "output_type": "stream",
     "text": [
      "NRT\n",
      "Number of times: 8760\n"
     ]
    }
   ],
   "source": [
    "# Cut time from march\n",
    "print(product)\n",
    "\n",
    "if product == 'NOW':\n",
    "    dates_list = pd.date_range(\n",
    "        start=f\"2024-03-01 00:00:00\",\n",
    "        end=f\"2024-12-31 23:59:00\",\n",
    "        freq=\"30min\"\n",
    "    ).strftime(\"%Y-%m-%d %H:%M:%S\").tolist()\n",
    "    description=\"GSMaP NOW 30 minutes data for South America\"\n",
    "\n",
    "else:\n",
    "    from datetime import datetime\n",
    "    dates_list = pd.date_range(\n",
    "    start=f\"2024-01-01 00:00:00\",\n",
    "    end=f\"2024-12-31 23:59:00\",\n",
    "    freq=\"h\"\n",
    "    ).strftime(\"%Y-%m-%d %H:%M:%S\").tolist()\n",
    "    dates_list = [\n",
    "    d for d in dates_list \n",
    "    if not datetime.strptime(d, \"%Y-%m-%d %H:%M:%S\").strftime(\"%m-%d\") == \"02-29\"\n",
    "    ]\n",
    "    description=\"GSMaP NRT 1 day data for South America\"\n",
    "\n",
    "print(f'Number of times: {len(dates_list)}')"
   ]
  },
  {
   "cell_type": "code",
   "execution_count": 9,
   "id": "0aef2a91",
   "metadata": {},
   "outputs": [
    {
     "data": {
      "text/plain": [
       "((8760, 610, 500), 8760)"
      ]
     },
     "execution_count": 9,
     "metadata": {},
     "output_type": "execute_result"
    }
   ],
   "source": [
    "PRE_FINAL.shape, len(dates_list)"
   ]
  },
  {
   "cell_type": "code",
   "execution_count": 10,
   "id": "61a28be8",
   "metadata": {},
   "outputs": [],
   "source": [
    "PRE_xr = xr.Dataset(data_vars={\"PRE\": ((\"time\",\"lat\",\"lon\"), PRE_FINAL)},\n",
    "                    coords={'time': dates_list, 'lat': lat, 'lon': lon},\n",
    "                    attrs=dict(description=description))\n",
    "\n",
    "PRE_xr.PRE.attrs[\"units\"] = \"mm\"\n",
    "PRE_xr.PRE.attrs[\"long_name\"] = \"precipitation\"\n",
    "PRE_xr.PRE.attrs[\"origname\"] = \"precipitation\"\n",
    "\n",
    "PRE_xr.lat.attrs[\"units\"] = \"degrees_north\"\n",
    "PRE_xr.lat.attrs[\"long_name\"] = \"Latitude\"\n",
    "\n",
    "PRE_xr.lon.attrs[\"units\"] = \"degrees_east\"\n",
    "PRE_xr.lon.attrs[\"long_name\"] = \"Longitude\""
   ]
  },
  {
   "cell_type": "code",
   "execution_count": 11,
   "id": "d4c6e837",
   "metadata": {},
   "outputs": [
    {
     "name": "stdout",
     "output_type": "stream",
     "text": [
      "Start time: 01/01/2024\n",
      "End time: 31/12/2024\n"
     ]
    }
   ],
   "source": [
    "yy_s = pd.to_datetime(dates_list[0]).year\n",
    "mm_s = str(pd.to_datetime(dates_list[0]).month).zfill(2)\n",
    "dd_s = str(pd.to_datetime(dates_list[0]).day).zfill(2)\n",
    "\n",
    "yy_e = pd.to_datetime(dates_list[-1]).year\n",
    "mm_e = str(pd.to_datetime(dates_list[-1]).month).zfill(2)\n",
    "dd_e = str(pd.to_datetime(dates_list[-1]).day).zfill(2)\n",
    "\n",
    "print(f'Start time: {dd_s}/{mm_s}/{yy_s}')\n",
    "print(f'End time: {dd_e}/{mm_e}/{yy_e}')"
   ]
  },
  {
   "cell_type": "code",
   "execution_count": null,
   "id": "1ca66c50",
   "metadata": {},
   "outputs": [
    {
     "name": "stdout",
     "output_type": "stream",
     "text": [
      "Export PRE data to /home/arturo/Downloads/GSMaP_NRT_SA_30min_2024_01_01_2024_12_31.nc\n"
     ]
    }
   ],
   "source": [
    "# Last file 17.9 Gb before the round 3\n",
    "PRE_out = os.path.join(dir_base,product,f'GSMaP_{product}_SA_{time_reso}_{yy_s}_{mm_s}_{dd_s}_{yy_e}_{mm_e}_{dd_e}.nc')\n",
    "# PRE_out = f'/home/arturo/Downloads/GSMaP_{product}_SA_30min_{yy_s}_{mm_s}_{dd_s}_{yy_e}_{mm_e}_{dd_e}.nc'\n",
    "print(f'Export PRE data to {PRE_out}')\n",
    "PRE_xr.to_netcdf(PRE_out)"
   ]
  },
  {
   "cell_type": "code",
   "execution_count": null,
   "id": "06bdf8aa",
   "metadata": {},
   "outputs": [],
   "source": [
    "proj = ccrs.PlateCarree()\n",
    "fig = plt.figure(figsize=(3,3),dpi=300)\n",
    "gs = gridspec.GridSpec(1,1)\n",
    "\n",
    "#==================================================================================================\n",
    "ax1 = plt.subplot(gs[0, 0], projection = proj)\n",
    "ax1.set_extent([-87,-30,-50,15],crs=proj)\n",
    "ax1.add_feature(cf.COASTLINE,linewidth=0.1, linestyle='-',edgecolor='k')\n",
    "ax1.add_feature(cf.BORDERS, linewidth=0.1, linestyle='-', edgecolor='k')\n",
    "\n",
    "a1 = ax1.contourf(lon2d, lat2d, np.nanmean(PRE_xr['PRE'].values,axis=0))\n",
    "\n",
    "gl = ax1.gridlines(crs=proj,draw_labels=True,linewidth=0.2,color='gray',alpha=0.5,linestyle='--')\n",
    "gl.top_labels = False\n",
    "gl.bottom_labels = True\n",
    "gl.left_labels = True\n",
    "gl.right_labels = False\n",
    "gl.xlabel_style = {'size': 6, 'color': 'k'}\n",
    "gl.ylabel_style = {'size': 6, 'color': 'k'}\n",
    "\n",
    "cbar = plt.colorbar(a1, orientation='vertical', pad=0.05, fraction=0.049)\n",
    "cbar.set_label('Precipitation [mm/h]', fontsize=6)\n",
    "cbar.ax.tick_params(labelsize=6)"
   ]
  },
  {
   "cell_type": "code",
   "execution_count": null,
   "id": "3d281949",
   "metadata": {},
   "outputs": [],
   "source": []
  }
 ],
 "metadata": {
  "kernelspec": {
   "display_name": "AXE",
   "language": "python",
   "name": "python3"
  },
  "language_info": {
   "codemirror_mode": {
    "name": "ipython",
    "version": 3
   },
   "file_extension": ".py",
   "mimetype": "text/x-python",
   "name": "python",
   "nbconvert_exporter": "python",
   "pygments_lexer": "ipython3",
   "version": "3.13.1"
  }
 },
 "nbformat": 4,
 "nbformat_minor": 5
}
