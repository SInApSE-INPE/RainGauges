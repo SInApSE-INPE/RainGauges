{
 "cells": [
  {
   "cell_type": "code",
   "execution_count": null,
   "id": "471f70ff",
   "metadata": {},
   "outputs": [],
   "source": [
    "import os\n",
    "import sys\n",
    "import glob\n",
    "import gzip\n",
    "import numpy as np\n",
    "import pandas as pd\n",
    "import xarray as xr\n",
    "import geopandas as gpd\n",
    "\n",
    "import cartopy.feature as cf\n",
    "import cartopy.crs as ccrs\n",
    "\n",
    "from matplotlib import patches\n",
    "import matplotlib.pyplot as plt\n",
    "import matplotlib.gridspec as gridspec"
   ]
  },
  {
   "cell_type": "markdown",
   "id": "c34b30e4",
   "metadata": {},
   "source": [
    "## Daily Accumulation for NOW and NRT"
   ]
  },
  {
   "cell_type": "code",
   "execution_count": null,
   "id": "b0f4b106",
   "metadata": {},
   "outputs": [],
   "source": [
    "# product = 'NOW'\n",
    "product = 'NRT'"
   ]
  },
  {
   "cell_type": "code",
   "execution_count": null,
   "id": "514ab3c9",
   "metadata": {},
   "outputs": [],
   "source": [
    "dir_base = os.path.join('/','media','arturo','Arturo','Data','Brazil')"
   ]
  },
  {
   "cell_type": "code",
   "execution_count": null,
   "id": "a06e8e1c",
   "metadata": {},
   "outputs": [],
   "source": [
    "DATA = xr.open_dataset(os.path.join(dir_base,'GSMaP',product,f'GSMaP_{product}_SA_1h_2024_01_01_2024_12_31.nc'))\n",
    "DATA['time'] = pd.to_datetime(DATA['time'].values)"
   ]
  },
  {
   "cell_type": "code",
   "execution_count": null,
   "id": "2f233b78",
   "metadata": {},
   "outputs": [],
   "source": [
    "daily_accum = DATA.resample(time='1D').sum()"
   ]
  },
  {
   "cell_type": "code",
   "execution_count": null,
   "id": "a21b197d",
   "metadata": {},
   "outputs": [],
   "source": [
    "DAILY_out = os.path.join(dir_base,'GSMaP',product,f'GSMaP_{product}_SA_1dy_2024_01_01_2024_12_31.nc')\n",
    "print(f'Export PRE data to {DAILY_out}')\n",
    "daily_accum.to_netcdf(DAILY_out)"
   ]
  }
 ],
 "metadata": {
  "kernelspec": {
   "display_name": "AXE",
   "language": "python",
   "name": "python3"
  },
  "language_info": {
   "codemirror_mode": {
    "name": "ipython",
    "version": 3
   },
   "file_extension": ".py",
   "mimetype": "text/x-python",
   "name": "python",
   "nbconvert_exporter": "python",
   "pygments_lexer": "ipython3",
   "version": "3.13.1"
  }
 },
 "nbformat": 4,
 "nbformat_minor": 5
}
