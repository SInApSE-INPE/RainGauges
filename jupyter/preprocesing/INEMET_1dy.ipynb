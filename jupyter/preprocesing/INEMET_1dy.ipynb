{
 "cells": [
  {
   "cell_type": "code",
   "execution_count": 1,
   "id": "4c039f69",
   "metadata": {},
   "outputs": [],
   "source": [
    "import os\n",
    "import sys\n",
    "import glob\n",
    "import numpy as np\n",
    "import pandas as pd\n",
    "import xarray as xr\n",
    "import seaborn as sns\n",
    "import geopandas as gpd\n",
    "\n",
    "import cartopy.feature as cf\n",
    "import cartopy.crs as ccrs\n",
    "\n",
    "from matplotlib import patches\n",
    "import matplotlib.colors as mcolors\n",
    "import matplotlib.pyplot as plt\n",
    "import matplotlib.gridspec as gridspec"
   ]
  },
  {
   "cell_type": "code",
   "execution_count": 2,
   "id": "a24360e2",
   "metadata": {},
   "outputs": [],
   "source": [
    "dir_base = os.path.join('/','media','arturo','Arturo','Data','Brazil')"
   ]
  },
  {
   "cell_type": "code",
   "execution_count": 3,
   "id": "74ecd5c2",
   "metadata": {},
   "outputs": [],
   "source": [
    "DATA = xr.open_dataset('/home/arturo/Downloads/IMERG_BR/IMERG_Italy_1dy_2024_01_01_2024_12_31.nc')\n",
    "DATA = DATA.sel(time=slice(\"2024-03-01\", \"2024-12-31\"))\n",
    "\n",
    "lat_IM = DATA.lat.values\n",
    "lon_IM = DATA.lon.values\n",
    "lon2d_IM, lat2d_IM = np.meshgrid(lon_IM, lat_IM)\n",
    "\n",
    "IMERG = DATA.PRE.values"
   ]
  },
  {
   "cell_type": "code",
   "execution_count": 4,
   "id": "bb010f88",
   "metadata": {},
   "outputs": [
    {
     "data": {
      "text/html": [
       "<div>\n",
       "<style scoped>\n",
       "    .dataframe tbody tr th:only-of-type {\n",
       "        vertical-align: middle;\n",
       "    }\n",
       "\n",
       "    .dataframe tbody tr th {\n",
       "        vertical-align: top;\n",
       "    }\n",
       "\n",
       "    .dataframe thead th {\n",
       "        text-align: right;\n",
       "    }\n",
       "</style>\n",
       "<table border=\"1\" class=\"dataframe\">\n",
       "  <thead>\n",
       "    <tr style=\"text-align: right;\">\n",
       "      <th></th>\n",
       "      <th>FILE</th>\n",
       "      <th>UF</th>\n",
       "      <th>LAT</th>\n",
       "      <th>LON</th>\n",
       "    </tr>\n",
       "  </thead>\n",
       "  <tbody>\n",
       "    <tr>\n",
       "      <th>0</th>\n",
       "      <td>INMET_CO_DF_A001_BRASILIA_01-01-2024_A_31-12-2...</td>\n",
       "      <td>DF</td>\n",
       "      <td>-15.789444</td>\n",
       "      <td>-47.925833</td>\n",
       "    </tr>\n",
       "    <tr>\n",
       "      <th>1</th>\n",
       "      <td>INMET_CO_DF_A042_BRAZLANDIA_01-01-2024_A_31-12...</td>\n",
       "      <td>DF</td>\n",
       "      <td>-15.599722</td>\n",
       "      <td>-48.131111</td>\n",
       "    </tr>\n",
       "    <tr>\n",
       "      <th>2</th>\n",
       "      <td>INMET_CO_DF_A045_AGUAS EMENDADAS_01-01-2024_A_...</td>\n",
       "      <td>DF</td>\n",
       "      <td>-15.596491</td>\n",
       "      <td>-47.625801</td>\n",
       "    </tr>\n",
       "    <tr>\n",
       "      <th>3</th>\n",
       "      <td>INMET_CO_DF_A046_GAMA (PONTE ALTA)_01-01-2024_...</td>\n",
       "      <td>DF</td>\n",
       "      <td>-15.935278</td>\n",
       "      <td>-48.137500</td>\n",
       "    </tr>\n",
       "  </tbody>\n",
       "</table>\n",
       "</div>"
      ],
      "text/plain": [
       "                                                FILE  UF        LAT        LON\n",
       "0  INMET_CO_DF_A001_BRASILIA_01-01-2024_A_31-12-2...  DF -15.789444 -47.925833\n",
       "1  INMET_CO_DF_A042_BRAZLANDIA_01-01-2024_A_31-12...  DF -15.599722 -48.131111\n",
       "2  INMET_CO_DF_A045_AGUAS EMENDADAS_01-01-2024_A_...  DF -15.596491 -47.625801\n",
       "3  INMET_CO_DF_A046_GAMA (PONTE ALTA)_01-01-2024_...  DF -15.935278 -48.137500"
      ]
     },
     "execution_count": 4,
     "metadata": {},
     "output_type": "execute_result"
    }
   ],
   "source": [
    "obs_list = pd.read_csv(os.path.join(dir_base,'INEMET','METADATA_2024.csv'))\n",
    "obs_list.head(4)"
   ]
  },
  {
   "cell_type": "code",
   "execution_count": 5,
   "id": "5aa98dda",
   "metadata": {},
   "outputs": [
    {
     "name": "stdout",
     "output_type": "stream",
     "text": [
      "Number of times: 366\n"
     ]
    }
   ],
   "source": [
    "TIME_REF = pd.date_range(start=f'2024-01-01', end=f'2024-12-31', freq='d')\n",
    "TIME_PD = pd.DataFrame({'datetime':TIME_REF})\n",
    "print(f'Number of times: {len(TIME_PD)}')"
   ]
  },
  {
   "cell_type": "code",
   "execution_count": 6,
   "id": "c524ce7c",
   "metadata": {},
   "outputs": [],
   "source": [
    "for nn in range(len(obs_list)):#len(obs_list)\n",
    "    obs = pd.read_csv(os.path.join(dir_base,'INEMET','1h','2024',obs_list['FILE'].values[nn]))\n",
    "    obs['datetime'] = pd.to_datetime(obs['datetime'])\n",
    "    # obs['datetime'] = pd.to_datetime(obs['datetime'].dt.strftime('%y%m%d %H'))\n",
    "    obs = obs.set_index('datetime')\n",
    "    obs_daily = obs.resample('D').sum()\n",
    "    obs_daily = obs_daily.reset_index()\n",
    "    obs_daily['datetime'] = obs_daily['datetime'].dt.tz_localize(None)\n",
    "    \n",
    "    data_rdy = pd.merge(obs_daily, TIME_PD, on='datetime', how='right')\n",
    "\n",
    "    output = os.path.join(dir_base,'INEMET','1dy',obs_list['FILE'].values[nn])\n",
    "    data_rdy.to_csv(output, header=True, index=None)"
   ]
  }
 ],
 "metadata": {
  "kernelspec": {
   "display_name": "AXE",
   "language": "python",
   "name": "python3"
  },
  "language_info": {
   "codemirror_mode": {
    "name": "ipython",
    "version": 3
   },
   "file_extension": ".py",
   "mimetype": "text/x-python",
   "name": "python",
   "nbconvert_exporter": "python",
   "pygments_lexer": "ipython3",
   "version": "3.13.1"
  }
 },
 "nbformat": 4,
 "nbformat_minor": 5
}
