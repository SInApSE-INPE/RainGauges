{
 "cells": [
  {
   "cell_type": "code",
   "execution_count": 37,
   "id": "cd409eda",
   "metadata": {},
   "outputs": [],
   "source": [
    "import os\n",
    "import glob\n",
    "import numpy as np\n",
    "import pandas as pd\n",
    "import geopandas as gpd\n",
    "\n",
    "import cartopy.crs as ccrs\n",
    "import cartopy.feature as cf\n",
    "import scipy.stats as stats\n",
    "\n",
    "from collections import Counter\n",
    "\n",
    "import matplotlib.pyplot as plt\n",
    "import matplotlib.patches as mpatches\n",
    "import matplotlib.gridspec as gridspec\n",
    "\n",
    "from shapely.geometry import Point, MultiPolygon\n",
    "\n",
    "import warnings\n",
    "warnings.filterwarnings('ignore')"
   ]
  },
  {
   "cell_type": "code",
   "execution_count": 38,
   "id": "bf30a483",
   "metadata": {},
   "outputs": [],
   "source": [
    "year = 2024"
   ]
  },
  {
   "cell_type": "code",
   "execution_count": 39,
   "id": "a4bdb415",
   "metadata": {},
   "outputs": [],
   "source": [
    "dir_base = os.path.join('/','media','arturo','Arturo','Data','Brazil','OBS_CPTEC')"
   ]
  },
  {
   "cell_type": "code",
   "execution_count": 40,
   "id": "db76322d",
   "metadata": {},
   "outputs": [
    {
     "name": "stdout",
     "output_type": "stream",
     "text": [
      "Number of files: 0\n"
     ]
    }
   ],
   "source": [
    "file_list = glob.glob(os.path.join(dir_base,'1hr',str(year),'rdy','*.csv'))\n",
    "file_list = sorted(file_list)\n",
    "file_len = len(file_list)\n",
    "print(f'Number of files: {file_len}')"
   ]
  },
  {
   "cell_type": "code",
   "execution_count": null,
   "id": "12b2a14d",
   "metadata": {},
   "outputs": [],
   "source": [
    "code = []\n",
    "lat, lon = [], []\n",
    "yys, yye = [], []\n",
    "for nn in range(100):#file_len\n",
    "    data = pd.read_csv(file_list[nn])\n",
    "\n",
    "    time_vecto = data.date.values\n",
    "    time_vecto = pd.to_datetime(time_vecto)\n",
    "    yys.append(time_vecto[0].year)\n",
    "    yye.append(time_vecto[-1].year)\n",
    "\n",
    "    code.append(str(data.code.values[0]))\n",
    "    lat.append(float(data.lat.values[0]))\n",
    "    lon.append(float(data.lon.values[0]))\n",
    "\n",
    "INFO = pd.DataFrame({'code':code, 'lat':lat, 'lon':lon, 'yys':yys, 'yye':yye})\n",
    "outname = os.path.join(dir_base, '1hr', str(year))\n",
    "INFO.to_csv()"
   ]
  },
  {
   "cell_type": "code",
   "execution_count": null,
   "id": "3f43f0d7",
   "metadata": {},
   "outputs": [],
   "source": []
  }
 ],
 "metadata": {
  "kernelspec": {
   "display_name": "AXE",
   "language": "python",
   "name": "python3"
  },
  "language_info": {
   "codemirror_mode": {
    "name": "ipython",
    "version": 3
   },
   "file_extension": ".py",
   "mimetype": "text/x-python",
   "name": "python",
   "nbconvert_exporter": "python",
   "pygments_lexer": "ipython3",
   "version": "3.13.1"
  }
 },
 "nbformat": 4,
 "nbformat_minor": 5
}
